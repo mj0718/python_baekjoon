{
 "cells": [
  {
   "cell_type": "markdown",
   "id": "b3130b0a",
   "metadata": {},
   "source": [
    "## <10818번 문제>\n",
    "### N개의 정수가 주어진다. 이때, 최솟값과 최댓값을 공백으로 구구분해 출력하는 프로그램을 작성하시오."
   ]
  },
  {
   "cell_type": "code",
   "execution_count": 2,
   "id": "50e4a28e",
   "metadata": {},
   "outputs": [
    {
     "name": "stdout",
     "output_type": "stream",
     "text": [
      "5\n",
      "20 10 35 30 7\n",
      "7 35\n"
     ]
    }
   ],
   "source": [
    "N=int(input())\n",
    "a=list(map(int,input().split()))\n",
    "\n",
    "print(min(a), max(a))"
   ]
  },
  {
   "cell_type": "markdown",
   "id": "a4577bb0",
   "metadata": {},
   "source": [
    "## <2562번 문제>\n",
    "### 9개의 서로 다른 자연수가 주어질 때, 이들 중 최댓값을 찾고 그 최댓값이 몇 번째 수인지를 구하는 프로그램을 작성하시오. 예를 들어, 서로 다른 9개의 자연수 3, 29, 38, 12, 57, 74, 40, 85, 61이 주어지면, 이들 중 최댓값은 85이고, 이 값은 8번째 수이다."
   ]
  },
  {
   "cell_type": "code",
   "execution_count": 3,
   "id": "4f8992ac",
   "metadata": {},
   "outputs": [
    {
     "name": "stdout",
     "output_type": "stream",
     "text": [
      "3\n",
      "29\n",
      "38\n",
      "12\n",
      "57\n",
      "74\n",
      "40\n",
      "85\n",
      "61\n",
      "85\n",
      "8\n"
     ]
    }
   ],
   "source": [
    "num=[] #list 생성\n",
    "\n",
    "for i in range(9):\n",
    "    a=int(input())\n",
    "    num.append(a) #list에 객체 추가 \n",
    "print(max(num))\n",
    "print(num.index(max(num))+1) #index함수로 최대값의 위치 찾음 index는 0부터 시작이므로 +1해줌"
   ]
  },
  {
   "cell_type": "markdown",
   "id": "bc6c440a",
   "metadata": {},
   "source": [
    "## <3052번 문제> \n",
    "### 수 10개를 입력받은 뒤, 이를 42로 나눈 나머지를 구한다. 그 다음 서로 다른 값이 몇 개 있는지 출력하는 프로그램을 작성하시오."
   ]
  },
  {
   "cell_type": "code",
   "execution_count": 4,
   "id": "c9c8ec51",
   "metadata": {
    "lines_to_next_cell": 0
   },
   "outputs": [
    {
     "name": "stdout",
     "output_type": "stream",
     "text": [
      "1\n",
      "2\n",
      "3\n",
      "4\n",
      "5\n",
      "6\n",
      "7\n",
      "8\n",
      "9\n",
      "10\n",
      "10\n"
     ]
    }
   ],
   "source": [
    "num=[]\n",
    "\n",
    "for i in range(10):\n",
    "    a=int(input())\n",
    "    num.append(a%42)\n",
    "num=set(num) #set함수는 중복된 값 제거해줌\n",
    "print(len(num)) #len은 문자열 길이를 나타냄"
   ]
  },
  {
   "cell_type": "markdown",
   "id": "cf678295",
   "metadata": {},
   "source": [
    "## <1546번 문제>\n",
    "### 세준이는 자기 점수 중에 최댓값을 골랐다. 이 값을 M이라고 한다. 그리고 나서 모든 점수를 점수/M*100으로 고쳤다. 예를 들어, 세준이의 최고점이 70이고, 수학점수가 50이었으면 수학점수는 50/70*100이 되어 71.43점이 된다. 세준이의 성적을 위의 방법대로 새로 계산했을 때, 새로운 평균을 구하는 프로그램을 작성하시오."
   ]
  },
  {
   "cell_type": "code",
   "execution_count": 4,
   "id": "1a69cdf2",
   "metadata": {},
   "outputs": [
    {
     "name": "stdout",
     "output_type": "stream",
     "text": [
      "3\n",
      "40 80 60\n",
      "75.0\n"
     ]
    }
   ],
   "source": [
    "N=int(input())\n",
    "score=list(map(int, input().split()))\n",
    "\n",
    "result=[]\n",
    "\n",
    "for i in range(N): \n",
    "    result.append(score[i]/max(score)*100)\n",
    "print(sum(result)/N)"
   ]
  },
  {
   "cell_type": "markdown",
   "id": "750231e6",
   "metadata": {},
   "source": [
    "## <8958번 문제>\n",
    "###  O는 문제를 맞은 것이고, X는 문제를 틀린 것이다. 문제를 맞은 경우 그 문제의 점수는 그 문제까지 연속된 O의 개수가 된다. OX퀴즈의 결과가 주어졌을 때, 점수를 구하는 프로그램을 작성하시오. "
   ]
  },
  {
   "cell_type": "code",
   "execution_count": 12,
   "id": "85ff6976",
   "metadata": {},
   "outputs": [
    {
     "name": "stdout",
     "output_type": "stream",
     "text": [
      "2\n",
      "OOXXXOO\n",
      "6\n",
      "XXOOOX\n",
      "6\n"
     ]
    }
   ],
   "source": [
    "N=int(input())\n",
    "\n",
    "\n",
    "for i in range(N):\n",
    "    a=input()\n",
    "    count=0\n",
    "    total=0\n",
    "    for j in a:\n",
    "        if j=='O':\n",
    "            count+=1\n",
    "        else:\n",
    "            count=0\n",
    "        total+=count\n",
    "    print(total)"
   ]
  },
  {
   "cell_type": "markdown",
   "id": "72fd1b5d",
   "metadata": {},
   "source": [
    "## <4344번 문제>\n",
    "### 첫째 줄에는 테스트 케이스의 개수 C가 주어진다. 둘째 줄부터 각 테스트 케이스마다 학생의 수 N(1 ≤ N ≤ 1000, N은 정수)이 첫 수로 주어지고, 이어서 N명의 점수가 주어진다. 각 케이스마다 한 줄씩 평균을 넘는 학생들의 비율을 반올림하여 소수점 셋째 자리까지 출력하는 프로그램을 작성하시오."
   ]
  },
  {
   "cell_type": "code",
   "execution_count": 23,
   "id": "1fc47b79",
   "metadata": {},
   "outputs": [
    {
     "name": "stdout",
     "output_type": "stream",
     "text": [
      "5\n",
      "5 50 50 70 80 100\n",
      "40.000%\n",
      "7 100 95 90 80 70 60 50\n",
      "57.143%\n",
      "3 70 90 80\n",
      "33.333%\n",
      "3 70 90 81\n",
      "66.667%\n",
      "9 100 99 98 97 96 95 94 93 91\n",
      "55.556%\n"
     ]
    }
   ],
   "source": [
    "N=int(input())\n",
    "\n",
    "for i in range(N):\n",
    "    score=list(map(int, input().split()))\n",
    "    avg=sum(score[1:])/score[0] #score[1:]은 학생들 점수, score[0]은 학생 수\n",
    "    count=0\n",
    "    for j in score[1:]:\n",
    "        if j>avg:\n",
    "            count+=1\n",
    "    print('%.3f'%(count/score[0]*100)+'%')"
   ]
  }
 ],
 "metadata": {
  "jupytext": {
   "formats": "ipynb,py:light"
  },
  "kernelspec": {
   "display_name": "Python 3 (ipykernel)",
   "language": "python",
   "name": "python3"
  },
  "language_info": {
   "codemirror_mode": {
    "name": "ipython",
    "version": 3
   },
   "file_extension": ".py",
   "mimetype": "text/x-python",
   "name": "python",
   "nbconvert_exporter": "python",
   "pygments_lexer": "ipython3",
   "version": "3.9.7"
  }
 },
 "nbformat": 4,
 "nbformat_minor": 5
}
