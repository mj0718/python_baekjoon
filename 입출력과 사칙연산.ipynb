{
 "cells": [
  {
   "cell_type": "markdown",
   "id": "f588398e",
   "metadata": {},
   "source": [
    "## <2557번 문제>\n",
    "### Hello World!를 출력하시오."
   ]
  },
  {
   "cell_type": "code",
   "execution_count": 1,
   "id": "7cd2280e",
   "metadata": {},
   "outputs": [
    {
     "name": "stdout",
     "output_type": "stream",
     "text": [
      "Hello World!\n"
     ]
    }
   ],
   "source": [
    "print('Hello World!')"
   ]
  },
  {
   "cell_type": "markdown",
   "id": "caff0a2e",
   "metadata": {},
   "source": [
    "## <10718번 문제>\n",
    "### 두 줄에 걸쳐 \"강한친구 대한육군\"을 한 줄에 한 번씩 출력한다."
   ]
  },
  {
   "cell_type": "code",
   "execution_count": 2,
   "id": "51f4cd27",
   "metadata": {},
   "outputs": [
    {
     "name": "stdout",
     "output_type": "stream",
     "text": [
      "강한친구 대한육군\n",
      "강한친구 대한육군\n"
     ]
    }
   ],
   "source": [
    "print('강한친구 대한육군')\n",
    "print('강한친구 대한육군')"
   ]
  },
  {
   "cell_type": "markdown",
   "id": "4fcd7562",
   "metadata": {},
   "source": [
    "## <1000번 문제>\n",
    "### 두 정수 A와 B를 입력받은 다음, A+B를 출력하는 프로그램을 작성하시오."
   ]
  },
  {
   "cell_type": "code",
   "execution_count": 13,
   "id": "d99ed5c5",
   "metadata": {},
   "outputs": [
    {
     "name": "stdout",
     "output_type": "stream",
     "text": [
      "1 5\n",
      "6\n"
     ]
    }
   ],
   "source": [
    "a,b=input().split()\n",
    "x=int(a)\n",
    "y=int(b)\n",
    "print(x+y)"
   ]
  },
  {
   "cell_type": "markdown",
   "id": "2aa7cda5",
   "metadata": {},
   "source": [
    "## <1001번 문제>\n",
    "### 두 정수 A와 B를 입력받은 다음, A-B를 출력하는 프로그램을 작성하시오."
   ]
  },
  {
   "cell_type": "code",
   "execution_count": 14,
   "id": "9f2a4d25",
   "metadata": {},
   "outputs": [
    {
     "name": "stdout",
     "output_type": "stream",
     "text": [
      "1 3\n",
      "-2\n"
     ]
    }
   ],
   "source": [
    "a,b=input().split()\n",
    "x=int(a)\n",
    "y=int(b)\n",
    "print(x-y)"
   ]
  },
  {
   "cell_type": "markdown",
   "id": "802c37b1",
   "metadata": {},
   "source": [
    "## <10998번 문제>\n",
    "### 두 정수 A와 B를 입력받은 다음, A×B를 출력하는 프로그램을 작성하시오."
   ]
  },
  {
   "cell_type": "code",
   "execution_count": 15,
   "id": "7ac2e3b2",
   "metadata": {},
   "outputs": [
    {
     "name": "stdout",
     "output_type": "stream",
     "text": [
      "1 3\n",
      "3\n"
     ]
    }
   ],
   "source": [
    "a,b=input().split()\n",
    "x=int(a)\n",
    "y=int(b)\n",
    "print(x*y)"
   ]
  },
  {
   "cell_type": "markdown",
   "id": "c7475fab",
   "metadata": {},
   "source": [
    "## <1008번 문제>\n",
    "### 두 정수 A와 B를 입력받은 다음, A/B를 출력하는 프로그램을 작성하시오."
   ]
  },
  {
   "cell_type": "code",
   "execution_count": 17,
   "id": "7f1e1bea",
   "metadata": {},
   "outputs": [
    {
     "name": "stdout",
     "output_type": "stream",
     "text": [
      "1 3\n",
      "0.3333333333333333\n"
     ]
    }
   ],
   "source": [
    "a,b=input().split()\n",
    "x=int(a)\n",
    "y=int(b)\n",
    "print(float(x/y))"
   ]
  },
  {
   "cell_type": "markdown",
   "id": "6c23967f",
   "metadata": {},
   "source": [
    "## <10869번 문제>\n",
    "### 두 자연수 A와 B가 주어진다. 이때, A+B, A-B, A*B, A/B(몫), A%B(나머지)를 출력하는 프로그램을 작성하시오. "
   ]
  },
  {
   "cell_type": "code",
   "execution_count": 19,
   "id": "5fc75cf0",
   "metadata": {},
   "outputs": [
    {
     "name": "stdout",
     "output_type": "stream",
     "text": [
      "7 3\n",
      "10\n",
      "4\n",
      "21\n",
      "2\n",
      "1\n"
     ]
    }
   ],
   "source": [
    "a,b=input().split()\n",
    "x=int(a)\n",
    "y=int(b)\n",
    "print(x+y)\n",
    "print(x-y)\n",
    "print(x*y)\n",
    "print(int(x/y))\n",
    "print(x%y)"
   ]
  },
  {
   "cell_type": "markdown",
   "id": "0ceb3865",
   "metadata": {},
   "source": [
    "## <10926번 문제>\n",
    "### 첫째 줄에 준하의 놀람을 출력한다. 놀람은 아이디 뒤에 ??!를 붙여서 나타낸다."
   ]
  },
  {
   "cell_type": "code",
   "execution_count": 20,
   "id": "ddc58335",
   "metadata": {},
   "outputs": [
    {
     "name": "stdout",
     "output_type": "stream",
     "text": [
      "minju\n",
      "minju??!\n"
     ]
    }
   ],
   "source": [
    "a=input()\n",
    "print(a+'??!')"
   ]
  },
  {
   "cell_type": "markdown",
   "id": "1a01b8ce",
   "metadata": {},
   "source": [
    "## <18108번 문제>\n",
    "### 불기 연도를 서기 연도로 변환한 결과를 출력한다."
   ]
  },
  {
   "cell_type": "code",
   "execution_count": 24,
   "id": "35a91d9e",
   "metadata": {},
   "outputs": [
    {
     "name": "stdout",
     "output_type": "stream",
     "text": [
      "2541\n",
      "1998\n"
     ]
    }
   ],
   "source": [
    "a=input()\n",
    "x=int(a)\n",
    "print(x-543)"
   ]
  },
  {
   "cell_type": "markdown",
   "id": "a95d8add",
   "metadata": {},
   "source": [
    "## <3003번 문제> \n",
    "### 체스는 총 16개의 피스를 사용하며, 킹 1개, 퀸 1개, 룩 2개, 비숍 2개, 나이트 2개, 폰 8개로 구성되어 있다.첫째 줄에 입력에서 주어진 순서대로 몇 개의 피스를 더하거나 빼야 되는지를 출력한다. 만약 수가 양수라면 동혁이는 그 개수 만큼 피스를 더해야 하는 것이고, 음수라면 제거해야 하는 것이다."
   ]
  },
  {
   "cell_type": "code",
   "execution_count": 35,
   "id": "deb43fe4",
   "metadata": {},
   "outputs": [
    {
     "name": "stdout",
     "output_type": "stream",
     "text": [
      "2 1 2 1 2 1\n",
      "-1 0 0 1 0 7 "
     ]
    }
   ],
   "source": [
    "a=[1,1,2,2,2,8]\n",
    "b=list(map(int,input().split())) #map은 형 변환을 한번에 시켜줌\n",
    "for i in range(6):\n",
    "    print(a[i]-b[i],end=\" \") #end는 현재 출력을 그 다음 출력과 이어지게함"
   ]
  },
  {
   "cell_type": "markdown",
   "id": "8753cbba",
   "metadata": {},
   "source": [
    "## <10430번 문제>\n",
    "### 첫째 줄에 (A+B)%C, 둘째 줄에 ((A%C) + (B%C))%C, 셋째 줄에 (A×B)%C, 넷째 줄에 ((A%C) × (B%C))%C를 출력한다."
   ]
  },
  {
   "cell_type": "code",
   "execution_count": 36,
   "id": "87599b1a",
   "metadata": {},
   "outputs": [
    {
     "name": "stdout",
     "output_type": "stream",
     "text": [
      "5 8 4\n",
      "1\n",
      "1\n",
      "0\n",
      "0\n"
     ]
    }
   ],
   "source": [
    "a,b,c=map(int,input().split())\n",
    "print((a+b)%c)\n",
    "print(((a%c)+(b%c))%c)\n",
    "print((a*b)%c)\n",
    "print(((a%c)*(b%c))%c)"
   ]
  },
  {
   "cell_type": "markdown",
   "id": "9b6a7ca6",
   "metadata": {},
   "source": [
    "## <2588번 문제> \n",
    "### 세 자리 수 * 세 자리 수를 첫째 줄부터 넷째 줄까지 차례대로 출력한다."
   ]
  },
  {
   "cell_type": "code",
   "execution_count": 39,
   "id": "5800e68b",
   "metadata": {},
   "outputs": [
    {
     "name": "stdout",
     "output_type": "stream",
     "text": [
      "472\n",
      "385\n",
      "2360\n",
      "3776\n",
      "1416\n",
      "181720\n"
     ]
    }
   ],
   "source": [
    "a=int(input())\n",
    "b=input()\n",
    "print(a*int(b[2]))\n",
    "print(a*int(b[1]))\n",
    "print(a*int(b[0]))\n",
    "print(a*int(b))"
   ]
  },
  {
   "cell_type": "markdown",
   "id": "26143fd8",
   "metadata": {},
   "source": [
    "## <10171번 문제>\n",
    "### 아래 예제와 같이 고양이를 출력하시오."
   ]
  },
  {
   "cell_type": "code",
   "execution_count": 48,
   "id": "a1ac82fa",
   "metadata": {},
   "outputs": [
    {
     "name": "stdout",
     "output_type": "stream",
     "text": [
      "\\    /\\\n",
      " )  ( ')\n",
      "(  /  )\n",
      " \\(__)|\n"
     ]
    }
   ],
   "source": [
    "print(\"\\    /\\\\\") #역슬래시를 쓸 때는 두번 연속해서 넣어야 인식함\n",
    "print(\" )  ( ')\")\n",
    "print(\"(  /  )\")\n",
    "print(\" \\(__)|\")"
   ]
  },
  {
   "cell_type": "markdown",
   "id": "05fa5921",
   "metadata": {},
   "source": [
    "## <10172번 문제>\n",
    "### 아래 예제와 같이 개를 출력하시오."
   ]
  },
  {
   "cell_type": "code",
   "execution_count": 52,
   "id": "19c76ca0",
   "metadata": {},
   "outputs": [
    {
     "name": "stdout",
     "output_type": "stream",
     "text": [
      "|\\_/|\n",
      "|q p|   /}\n",
      "( 0 )\"\"\"\\\n",
      "|\"^\"`    |\n",
      "||_/=\\\\__|\n"
     ]
    }
   ],
   "source": [
    "print(\"|\\_/|\")\n",
    "print(\"|q p|   /}\")\n",
    "print('( 0 )\"\"\"\\\\')\n",
    "print('|\"^\"`    |')\n",
    "print(\"||_/=\\\\\\__|\")"
   ]
  },
  {
   "cell_type": "markdown",
   "id": "eedf505d",
   "metadata": {},
   "source": [
    "## <25083번 문제> \n",
    "### 아래 예제와 같이 새싹을 출력하시오."
   ]
  },
  {
   "cell_type": "code",
   "execution_count": 54,
   "id": "e32e5967",
   "metadata": {},
   "outputs": [
    {
     "name": "stdout",
     "output_type": "stream",
     "text": [
      "         ,r'\"7\n",
      "r`-_   ,'  ,/\n",
      " \\. \". L_r'\n",
      "   `~\\/\n",
      "      |\n",
      "      |\n"
     ]
    }
   ],
   "source": [
    "print(\"         ,r'\\\"7\") #\"\" 또는 '' 안에 똑같은 것을 출력하기 위해서는 \\\" 또는 \\'로 출력\n",
    "print(\"r`-_   ,'  ,/\")\n",
    "print(\" \\. \\\". L_r'\")\n",
    "print(\"   `~\\/\")\n",
    "print(\"      |\")\n",
    "print(\"      |\")"
   ]
  }
 ],
 "metadata": {
  "jupytext": {
   "formats": "ipynb,auto:light"
  },
  "kernelspec": {
   "display_name": "Python 3 (ipykernel)",
   "language": "python",
   "name": "python3"
  },
  "language_info": {
   "codemirror_mode": {
    "name": "ipython",
    "version": 3
   },
   "file_extension": ".py",
   "mimetype": "text/x-python",
   "name": "python",
   "nbconvert_exporter": "python",
   "pygments_lexer": "ipython3",
   "version": "3.9.7"
  }
 },
 "nbformat": 4,
 "nbformat_minor": 5
}
